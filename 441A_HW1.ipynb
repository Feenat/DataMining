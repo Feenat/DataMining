{
 "cells": [
  {
   "cell_type": "markdown",
   "id": "0ea7b8f3",
   "metadata": {},
   "source": [
    "## Q2. (2 points) Use the bwght dataset from the Wooldridge python module to answer the following question. Import this data into your notebook."
   ]
  },
  {
   "cell_type": "markdown",
   "id": "3d477b73",
   "metadata": {},
   "source": [
    "(a) (.5 Points) How many women are in the sample? How many report smoking during pregnancy?"
   ]
  },
  {
   "cell_type": "code",
   "execution_count": 39,
   "id": "c1cb8188",
   "metadata": {},
   "outputs": [
    {
     "data": {
      "text/html": [
       "<div>\n",
       "<style scoped>\n",
       "    .dataframe tbody tr th:only-of-type {\n",
       "        vertical-align: middle;\n",
       "    }\n",
       "\n",
       "    .dataframe tbody tr th {\n",
       "        vertical-align: top;\n",
       "    }\n",
       "\n",
       "    .dataframe thead th {\n",
       "        text-align: right;\n",
       "    }\n",
       "</style>\n",
       "<table border=\"1\" class=\"dataframe\">\n",
       "  <thead>\n",
       "    <tr style=\"text-align: right;\">\n",
       "      <th></th>\n",
       "      <th>faminc</th>\n",
       "      <th>cigtax</th>\n",
       "      <th>cigprice</th>\n",
       "      <th>bwght</th>\n",
       "      <th>fatheduc</th>\n",
       "      <th>motheduc</th>\n",
       "      <th>parity</th>\n",
       "      <th>male</th>\n",
       "      <th>white</th>\n",
       "      <th>cigs</th>\n",
       "      <th>lbwght</th>\n",
       "      <th>bwghtlbs</th>\n",
       "      <th>packs</th>\n",
       "      <th>lfaminc</th>\n",
       "    </tr>\n",
       "  </thead>\n",
       "  <tbody>\n",
       "    <tr>\n",
       "      <th>0</th>\n",
       "      <td>13.5</td>\n",
       "      <td>16.5</td>\n",
       "      <td>122.300003</td>\n",
       "      <td>109</td>\n",
       "      <td>12.0</td>\n",
       "      <td>12.0</td>\n",
       "      <td>1</td>\n",
       "      <td>1</td>\n",
       "      <td>1</td>\n",
       "      <td>0</td>\n",
       "      <td>4.691348</td>\n",
       "      <td>6.8125</td>\n",
       "      <td>0.0</td>\n",
       "      <td>2.602690</td>\n",
       "    </tr>\n",
       "    <tr>\n",
       "      <th>1</th>\n",
       "      <td>7.5</td>\n",
       "      <td>16.5</td>\n",
       "      <td>122.300003</td>\n",
       "      <td>133</td>\n",
       "      <td>6.0</td>\n",
       "      <td>12.0</td>\n",
       "      <td>2</td>\n",
       "      <td>1</td>\n",
       "      <td>0</td>\n",
       "      <td>0</td>\n",
       "      <td>4.890349</td>\n",
       "      <td>8.3125</td>\n",
       "      <td>0.0</td>\n",
       "      <td>2.014903</td>\n",
       "    </tr>\n",
       "    <tr>\n",
       "      <th>2</th>\n",
       "      <td>0.5</td>\n",
       "      <td>16.5</td>\n",
       "      <td>122.300003</td>\n",
       "      <td>129</td>\n",
       "      <td>NaN</td>\n",
       "      <td>12.0</td>\n",
       "      <td>2</td>\n",
       "      <td>0</td>\n",
       "      <td>0</td>\n",
       "      <td>0</td>\n",
       "      <td>4.859812</td>\n",
       "      <td>8.0625</td>\n",
       "      <td>0.0</td>\n",
       "      <td>-0.693147</td>\n",
       "    </tr>\n",
       "    <tr>\n",
       "      <th>3</th>\n",
       "      <td>15.5</td>\n",
       "      <td>16.5</td>\n",
       "      <td>122.300003</td>\n",
       "      <td>126</td>\n",
       "      <td>12.0</td>\n",
       "      <td>12.0</td>\n",
       "      <td>2</td>\n",
       "      <td>1</td>\n",
       "      <td>0</td>\n",
       "      <td>0</td>\n",
       "      <td>4.836282</td>\n",
       "      <td>7.8750</td>\n",
       "      <td>0.0</td>\n",
       "      <td>2.740840</td>\n",
       "    </tr>\n",
       "    <tr>\n",
       "      <th>4</th>\n",
       "      <td>27.5</td>\n",
       "      <td>16.5</td>\n",
       "      <td>122.300003</td>\n",
       "      <td>134</td>\n",
       "      <td>14.0</td>\n",
       "      <td>12.0</td>\n",
       "      <td>2</td>\n",
       "      <td>1</td>\n",
       "      <td>1</td>\n",
       "      <td>0</td>\n",
       "      <td>4.897840</td>\n",
       "      <td>8.3750</td>\n",
       "      <td>0.0</td>\n",
       "      <td>3.314186</td>\n",
       "    </tr>\n",
       "  </tbody>\n",
       "</table>\n",
       "</div>"
      ],
      "text/plain": [
       "   faminc  cigtax    cigprice  bwght  fatheduc  motheduc  parity  male  white  \\\n",
       "0    13.5    16.5  122.300003    109      12.0      12.0       1     1      1   \n",
       "1     7.5    16.5  122.300003    133       6.0      12.0       2     1      0   \n",
       "2     0.5    16.5  122.300003    129       NaN      12.0       2     0      0   \n",
       "3    15.5    16.5  122.300003    126      12.0      12.0       2     1      0   \n",
       "4    27.5    16.5  122.300003    134      14.0      12.0       2     1      1   \n",
       "\n",
       "   cigs    lbwght  bwghtlbs  packs   lfaminc  \n",
       "0     0  4.691348    6.8125    0.0  2.602690  \n",
       "1     0  4.890349    8.3125    0.0  2.014903  \n",
       "2     0  4.859812    8.0625    0.0 -0.693147  \n",
       "3     0  4.836282    7.8750    0.0  2.740840  \n",
       "4     0  4.897840    8.3750    0.0  3.314186  "
      ]
     },
     "execution_count": 39,
     "metadata": {},
     "output_type": "execute_result"
    }
   ],
   "source": [
    "# install the wooldridge module\n",
    "# !pip install wooldridge\n",
    "\n",
    "#import packages\n",
    "import numpy as np\n",
    "import matplotlib.pyplot as plt\n",
    "import scipy.stats as stats\n",
    "import pandas as pd\n",
    "import seaborn as sns\n",
    "\n",
    "#import data\n",
    "import wooldridge as woo\n",
    "bwght = woo.data('bwght')\n",
    "bwght.head()"
   ]
  },
  {
   "cell_type": "code",
   "execution_count": 21,
   "id": "1f7b0b17",
   "metadata": {},
   "outputs": [
    {
     "data": {
      "text/plain": [
       "1388"
      ]
     },
     "execution_count": 21,
     "metadata": {},
     "output_type": "execute_result"
    }
   ],
   "source": [
    "bwght.shape[0]"
   ]
  },
  {
   "cell_type": "markdown",
   "id": "5c0119d6",
   "metadata": {},
   "source": [
    "There are 1388 women in the sample. "
   ]
  },
  {
   "cell_type": "code",
   "execution_count": 22,
   "id": "ab6dcf0b",
   "metadata": {
    "scrolled": true
   },
   "outputs": [
    {
     "data": {
      "text/plain": [
       "212"
      ]
     },
     "execution_count": 22,
     "metadata": {},
     "output_type": "execute_result"
    }
   ],
   "source": [
    "(bwght['cigs']>0).sum()"
   ]
  },
  {
   "cell_type": "markdown",
   "id": "88094926",
   "metadata": {},
   "source": [
    "212 are reported smoking during pregnancy."
   ]
  },
  {
   "cell_type": "markdown",
   "id": "0105a743",
   "metadata": {},
   "source": [
    "(b) (.5 Points) Generate a table of summary statistics for the dataframe. What is the average number\n",
    "of cigarettes smoked in a day? Is the mean a good measure of the typical women’s smoking habits?\n",
    "Explain."
   ]
  },
  {
   "cell_type": "code",
   "execution_count": 25,
   "id": "9738fb05",
   "metadata": {},
   "outputs": [
    {
     "data": {
      "text/html": [
       "<div>\n",
       "<style scoped>\n",
       "    .dataframe tbody tr th:only-of-type {\n",
       "        vertical-align: middle;\n",
       "    }\n",
       "\n",
       "    .dataframe tbody tr th {\n",
       "        vertical-align: top;\n",
       "    }\n",
       "\n",
       "    .dataframe thead th {\n",
       "        text-align: right;\n",
       "    }\n",
       "</style>\n",
       "<table border=\"1\" class=\"dataframe\">\n",
       "  <thead>\n",
       "    <tr style=\"text-align: right;\">\n",
       "      <th></th>\n",
       "      <th>faminc</th>\n",
       "      <th>cigtax</th>\n",
       "      <th>cigprice</th>\n",
       "      <th>bwght</th>\n",
       "      <th>fatheduc</th>\n",
       "      <th>motheduc</th>\n",
       "      <th>parity</th>\n",
       "      <th>male</th>\n",
       "      <th>white</th>\n",
       "      <th>cigs</th>\n",
       "      <th>lbwght</th>\n",
       "      <th>bwghtlbs</th>\n",
       "      <th>packs</th>\n",
       "      <th>lfaminc</th>\n",
       "    </tr>\n",
       "  </thead>\n",
       "  <tbody>\n",
       "    <tr>\n",
       "      <th>count</th>\n",
       "      <td>1388.000000</td>\n",
       "      <td>1388.000000</td>\n",
       "      <td>1388.000000</td>\n",
       "      <td>1388.000000</td>\n",
       "      <td>1192.000000</td>\n",
       "      <td>1387.000000</td>\n",
       "      <td>1388.000000</td>\n",
       "      <td>1388.000000</td>\n",
       "      <td>1388.000000</td>\n",
       "      <td>1388.000000</td>\n",
       "      <td>1388.000000</td>\n",
       "      <td>1388.000000</td>\n",
       "      <td>1388.000000</td>\n",
       "      <td>1388.000000</td>\n",
       "    </tr>\n",
       "    <tr>\n",
       "      <th>mean</th>\n",
       "      <td>29.026657</td>\n",
       "      <td>19.552954</td>\n",
       "      <td>130.559006</td>\n",
       "      <td>118.699568</td>\n",
       "      <td>13.186242</td>\n",
       "      <td>12.935833</td>\n",
       "      <td>1.632565</td>\n",
       "      <td>0.520893</td>\n",
       "      <td>0.784582</td>\n",
       "      <td>2.087176</td>\n",
       "      <td>4.760031</td>\n",
       "      <td>7.418723</td>\n",
       "      <td>0.104359</td>\n",
       "      <td>3.071271</td>\n",
       "    </tr>\n",
       "    <tr>\n",
       "      <th>std</th>\n",
       "      <td>18.739285</td>\n",
       "      <td>7.795598</td>\n",
       "      <td>10.244485</td>\n",
       "      <td>20.353964</td>\n",
       "      <td>2.745985</td>\n",
       "      <td>2.376728</td>\n",
       "      <td>0.894027</td>\n",
       "      <td>0.499743</td>\n",
       "      <td>0.411260</td>\n",
       "      <td>5.972688</td>\n",
       "      <td>0.190662</td>\n",
       "      <td>1.272123</td>\n",
       "      <td>0.298634</td>\n",
       "      <td>0.918065</td>\n",
       "    </tr>\n",
       "    <tr>\n",
       "      <th>min</th>\n",
       "      <td>0.500000</td>\n",
       "      <td>2.000000</td>\n",
       "      <td>103.800003</td>\n",
       "      <td>23.000000</td>\n",
       "      <td>1.000000</td>\n",
       "      <td>2.000000</td>\n",
       "      <td>1.000000</td>\n",
       "      <td>0.000000</td>\n",
       "      <td>0.000000</td>\n",
       "      <td>0.000000</td>\n",
       "      <td>3.135494</td>\n",
       "      <td>1.437500</td>\n",
       "      <td>0.000000</td>\n",
       "      <td>-0.693147</td>\n",
       "    </tr>\n",
       "    <tr>\n",
       "      <th>25%</th>\n",
       "      <td>14.500000</td>\n",
       "      <td>15.000000</td>\n",
       "      <td>122.800003</td>\n",
       "      <td>107.000000</td>\n",
       "      <td>12.000000</td>\n",
       "      <td>12.000000</td>\n",
       "      <td>1.000000</td>\n",
       "      <td>0.000000</td>\n",
       "      <td>1.000000</td>\n",
       "      <td>0.000000</td>\n",
       "      <td>4.672829</td>\n",
       "      <td>6.687500</td>\n",
       "      <td>0.000000</td>\n",
       "      <td>2.674149</td>\n",
       "    </tr>\n",
       "    <tr>\n",
       "      <th>50%</th>\n",
       "      <td>27.500000</td>\n",
       "      <td>20.000000</td>\n",
       "      <td>130.800003</td>\n",
       "      <td>120.000000</td>\n",
       "      <td>12.000000</td>\n",
       "      <td>12.000000</td>\n",
       "      <td>1.000000</td>\n",
       "      <td>1.000000</td>\n",
       "      <td>1.000000</td>\n",
       "      <td>0.000000</td>\n",
       "      <td>4.787492</td>\n",
       "      <td>7.500000</td>\n",
       "      <td>0.000000</td>\n",
       "      <td>3.314186</td>\n",
       "    </tr>\n",
       "    <tr>\n",
       "      <th>75%</th>\n",
       "      <td>37.500000</td>\n",
       "      <td>26.000000</td>\n",
       "      <td>137.000000</td>\n",
       "      <td>132.000000</td>\n",
       "      <td>16.000000</td>\n",
       "      <td>14.000000</td>\n",
       "      <td>2.000000</td>\n",
       "      <td>1.000000</td>\n",
       "      <td>1.000000</td>\n",
       "      <td>0.000000</td>\n",
       "      <td>4.882802</td>\n",
       "      <td>8.250000</td>\n",
       "      <td>0.000000</td>\n",
       "      <td>3.624341</td>\n",
       "    </tr>\n",
       "    <tr>\n",
       "      <th>max</th>\n",
       "      <td>65.000000</td>\n",
       "      <td>38.000000</td>\n",
       "      <td>152.500000</td>\n",
       "      <td>271.000000</td>\n",
       "      <td>18.000000</td>\n",
       "      <td>18.000000</td>\n",
       "      <td>6.000000</td>\n",
       "      <td>1.000000</td>\n",
       "      <td>1.000000</td>\n",
       "      <td>50.000000</td>\n",
       "      <td>5.602119</td>\n",
       "      <td>16.937500</td>\n",
       "      <td>2.500000</td>\n",
       "      <td>4.174387</td>\n",
       "    </tr>\n",
       "  </tbody>\n",
       "</table>\n",
       "</div>"
      ],
      "text/plain": [
       "            faminc       cigtax     cigprice        bwght     fatheduc  \\\n",
       "count  1388.000000  1388.000000  1388.000000  1388.000000  1192.000000   \n",
       "mean     29.026657    19.552954   130.559006   118.699568    13.186242   \n",
       "std      18.739285     7.795598    10.244485    20.353964     2.745985   \n",
       "min       0.500000     2.000000   103.800003    23.000000     1.000000   \n",
       "25%      14.500000    15.000000   122.800003   107.000000    12.000000   \n",
       "50%      27.500000    20.000000   130.800003   120.000000    12.000000   \n",
       "75%      37.500000    26.000000   137.000000   132.000000    16.000000   \n",
       "max      65.000000    38.000000   152.500000   271.000000    18.000000   \n",
       "\n",
       "          motheduc       parity         male        white         cigs  \\\n",
       "count  1387.000000  1388.000000  1388.000000  1388.000000  1388.000000   \n",
       "mean     12.935833     1.632565     0.520893     0.784582     2.087176   \n",
       "std       2.376728     0.894027     0.499743     0.411260     5.972688   \n",
       "min       2.000000     1.000000     0.000000     0.000000     0.000000   \n",
       "25%      12.000000     1.000000     0.000000     1.000000     0.000000   \n",
       "50%      12.000000     1.000000     1.000000     1.000000     0.000000   \n",
       "75%      14.000000     2.000000     1.000000     1.000000     0.000000   \n",
       "max      18.000000     6.000000     1.000000     1.000000    50.000000   \n",
       "\n",
       "            lbwght     bwghtlbs        packs      lfaminc  \n",
       "count  1388.000000  1388.000000  1388.000000  1388.000000  \n",
       "mean      4.760031     7.418723     0.104359     3.071271  \n",
       "std       0.190662     1.272123     0.298634     0.918065  \n",
       "min       3.135494     1.437500     0.000000    -0.693147  \n",
       "25%       4.672829     6.687500     0.000000     2.674149  \n",
       "50%       4.787492     7.500000     0.000000     3.314186  \n",
       "75%       4.882802     8.250000     0.000000     3.624341  \n",
       "max       5.602119    16.937500     2.500000     4.174387  "
      ]
     },
     "execution_count": 25,
     "metadata": {},
     "output_type": "execute_result"
    }
   ],
   "source": [
    "bwght.describe()"
   ]
  },
  {
   "cell_type": "code",
   "execution_count": 26,
   "id": "7b638097",
   "metadata": {},
   "outputs": [
    {
     "data": {
      "text/plain": [
       "2.0871757925072045"
      ]
     },
     "execution_count": 26,
     "metadata": {},
     "output_type": "execute_result"
    }
   ],
   "source": [
    "bwght['cigs'].mean()"
   ]
  },
  {
   "cell_type": "markdown",
   "id": "bcdadca0",
   "metadata": {},
   "source": [
    "The average number of cigarettes smoked in a day is 2.087. It is not a good measure because lots of values in column 'cigs' are 0, which means the mean would be biased. "
   ]
  },
  {
   "cell_type": "markdown",
   "id": "944b58ac",
   "metadata": {},
   "source": [
    "(c) (1 Points) Find the average fatheduc in the sample. Why are only 1,192 observations used to\n",
    "compute this average?"
   ]
  },
  {
   "cell_type": "code",
   "execution_count": 27,
   "id": "2bdaa483",
   "metadata": {},
   "outputs": [
    {
     "data": {
      "text/plain": [
       "13.186241610738255"
      ]
     },
     "execution_count": 27,
     "metadata": {},
     "output_type": "execute_result"
    }
   ],
   "source": [
    "bwght['fatheduc'].mean()"
   ]
  },
  {
   "cell_type": "code",
   "execution_count": 29,
   "id": "ccc18047",
   "metadata": {},
   "outputs": [
    {
     "data": {
      "text/plain": [
       "196"
      ]
     },
     "execution_count": 29,
     "metadata": {},
     "output_type": "execute_result"
    }
   ],
   "source": [
    "bwght['fatheduc'].isnull().sum()"
   ]
  },
  {
   "cell_type": "code",
   "execution_count": 30,
   "id": "5d78b834",
   "metadata": {},
   "outputs": [
    {
     "data": {
      "text/plain": [
       "1192"
      ]
     },
     "execution_count": 30,
     "metadata": {},
     "output_type": "execute_result"
    }
   ],
   "source": [
    "1388-196"
   ]
  },
  {
   "cell_type": "markdown",
   "id": "dd1d497e",
   "metadata": {},
   "source": [
    "There are only 1192 observations used because the remaining 196 are null values and couldn't be used to calculate mean."
   ]
  },
  {
   "cell_type": "markdown",
   "id": "a21c8c49",
   "metadata": {},
   "source": [
    "## 3. (4 points) Use the bwght dataset from the Wooldridge python module to answer the following question."
   ]
  },
  {
   "cell_type": "markdown",
   "id": "797f1133",
   "metadata": {},
   "source": [
    "(a) (1 point) Generate two different histograms of bwght using Sturge’s and FD binning methods.\n",
    "What are the strengths and weaknesses of each method?"
   ]
  },
  {
   "cell_type": "code",
   "execution_count": 32,
   "id": "ddf60a5e",
   "metadata": {},
   "outputs": [
    {
     "data": {
      "image/png": "[encoded data removed]",
      "text/plain": [
       "<Figure size 1008x432 with 1 Axes>"
      ]
     },
     "metadata": {
      "needs_background": "light"
     },
     "output_type": "display_data"
    }
   ],
   "source": [
    "# Set figure size\n",
    "plt.figure(figsize=(14,6))\n",
    "\n",
    "# Plot using Sturge's binning method\n",
    "plt.hist(bwght['bwght'], alpha=.5, bins=\"sturges\")\n",
    "plt.title(\"Sturges bin number\")\n",
    "plt.show()"
   ]
  },
  {
   "cell_type": "code",
   "execution_count": 33,
   "id": "22b31068",
   "metadata": {},
   "outputs": [
    {
     "data": {
      "image/png": "[encoded data removed]",
      "text/plain": [
       "<Figure size 432x288 with 1 Axes>"
      ]
     },
     "metadata": {
      "needs_background": "light"
     },
     "output_type": "display_data"
    }
   ],
   "source": [
    "# Plot using FD binning method\n",
    "plt.hist(bwght['bwght'], alpha=.5, bins=\"fd\")\n",
    "plt.title(\"FD bin number\")\n",
    "plt.show()"
   ]
  },
  {
   "cell_type": "markdown",
   "id": "8f039643",
   "metadata": {},
   "source": [
    "Sturge's method works well when the sample size is under 200 or when the dataset is not heavily skewed. It smoothes the data to discover patterns. But it could possibly over-smooth when facing a large dataset. \n",
    "FD's method gives a more detailed trend of the data, but it could be easily influenced by noise in the dataset because the number of bins is ralatively large."
   ]
  },
  {
   "cell_type": "markdown",
   "id": "0f12b35e",
   "metadata": {},
   "source": [
    "(b) (1 point) Create a histogram of bwght and overlay a density curve."
   ]
  },
  {
   "cell_type": "code",
   "execution_count": 40,
   "id": "1e094b68",
   "metadata": {},
   "outputs": [
    {
     "data": {
      "image/png": "[encoded data removed]",
      "text/plain": [
       "<Figure size 720x432 with 1 Axes>"
      ]
     },
     "metadata": {
      "needs_background": "light"
     },
     "output_type": "display_data"
    }
   ],
   "source": [
    "plt.figure(figsize=(10,6))\n",
    "plt.title('Histogram of bwght with density curve')\n",
    "sns.histplot(bwght.bwght, stat='density')\n",
    "sns.kdeplot(bwght.bwght, color='red')\n",
    "sns.rugplot(bwght.bwght, color='black')\n",
    "plt.grid()"
   ]
  },
  {
   "cell_type": "markdown",
   "id": "a1bdd159",
   "metadata": {},
   "source": [
    "(c) (1 point) Using a q-q plot, do you believe bwght is approximately normally distributed? Why are\n",
    "why not?"
   ]
  },
  {
   "cell_type": "code",
   "execution_count": 45,
   "id": "161716de",
   "metadata": {},
   "outputs": [
    {
     "data": {
      "image/png": "[encoded data removed]",
      "text/plain": [
       "<Figure size 432x288 with 1 Axes>"
      ]
     },
     "metadata": {
      "needs_background": "light"
     },
     "output_type": "display_data"
    }
   ],
   "source": [
    "sample = np.random.normal(0,1,bwght.shape[0])\n",
    "stats.probplot(sample, dist='norm', plot=plt)\n",
    "plt.show()"
   ]
  },
  {
   "cell_type": "markdown",
   "id": "f9860d0c",
   "metadata": {},
   "source": [
    "As the graph shows, bwght is approximately normally distributed because there aren't many points that are deviated from the 45-degree line. Most points fall on the line. "
   ]
  },
  {
   "cell_type": "markdown",
   "id": "f8a0f205",
   "metadata": {},
   "source": [
    "(d) (1 point) Create a boxplot conditioning on whether or not the mother was a smoker. Do you\n",
    "observe any differences? If so, what?"
   ]
  },
  {
   "cell_type": "code",
   "execution_count": 50,
   "id": "fd5654be",
   "metadata": {},
   "outputs": [
    {
     "data": {
      "image/png": "[encoded data removed]",
      "text/plain": [
       "<Figure size 360x432 with 1 Axes>"
      ]
     },
     "metadata": {
      "needs_background": "light"
     },
     "output_type": "display_data"
    }
   ],
   "source": [
    "plt.figure(figsize=(5,6))\n",
    "data = [bwght[bwght.cigs==0].bwght, bwght[bwght.cigs!=0].bwght]\n",
    "plt.boxplot(data)\n",
    "plt.ylabel('bwght')\n",
    "plt.xticks([1,2], ['do not smoke','smoke'])\n",
    "plt.show()"
   ]
  },
  {
   "cell_type": "markdown",
   "id": "580daa11",
   "metadata": {},
   "source": [
    "I observed from the boxplot above that the mother who was a smoker tends to give smaller birth weight to her baby than the mother who did not smoke. "
   ]
  },
  {
   "cell_type": "markdown",
   "id": "baedf338",
   "metadata": {},
   "source": [
    "## 4. (4 points) Use the bwght dataset from the Wooldridge python module to answer the following question.\n"
   ]
  },
  {
   "cell_type": "markdown",
   "id": "a7c2dad9",
   "metadata": {},
   "source": [
    "(a) (1 point) Estimate the parameters for the following simple regression:\n",
    "ˆbwght = ˆβ0 + ˆβ1cigs.  \n",
    "Report the intercept and slope. What do these tell you about the association between cigarette use and birth weight?"
   ]
  },
  {
   "cell_type": "code",
   "execution_count": 64,
   "id": "6a129ed8",
   "metadata": {},
   "outputs": [
    {
     "data": {
      "text/plain": [
       "Intercept    119.771900\n",
       "cigs          -0.513772\n",
       "dtype: float64"
      ]
     },
     "execution_count": 64,
     "metadata": {},
     "output_type": "execute_result"
    }
   ],
   "source": [
    "import statsmodels.formula.api as smf\n",
    "\n",
    "reg=smf.ols('bwght~cigs', data=bwght)\n",
    "results=reg.fit()\n",
    "results.params"
   ]
  },
  {
   "cell_type": "markdown",
   "id": "3f6f549d",
   "metadata": {},
   "source": [
    "The intercept tells that if the mother did not smoke(cigs=0), the model predicts that the baby weight is approximately 119.7719 ounces.\n",
    "The slope tells that if the number of cigarettes smoked by the mother per day increases by 1, the model predicts the\n",
    "baby weigiht will decrease by approximately 0.513772 ounces. "
   ]
  },
  {
   "cell_type": "markdown",
   "id": "a310522e",
   "metadata": {},
   "source": [
    "(b) (1 point) What is the predicted value of birthweight when cigs = 0? When cigs = 3?"
   ]
  },
  {
   "cell_type": "code",
   "execution_count": 57,
   "id": "c3296165",
   "metadata": {},
   "outputs": [
    {
     "name": "stdout",
     "output_type": "stream",
     "text": [
      "119.77190039834967\n",
      "118.23058411987951\n"
     ]
    }
   ],
   "source": [
    "b0 = results.params[0]\n",
    "b1 = results.params[1]\n",
    "\n",
    "# cigs = 0\n",
    "print(b0+b1*0)\n",
    "\n",
    "# cigs = 3\n",
    "print(b0+b1*3)"
   ]
  },
  {
   "cell_type": "markdown",
   "id": "75934480",
   "metadata": {},
   "source": [
    "(c) (1 point) Verify the residuals of this regression sum (approximately) to zero."
   ]
  },
  {
   "cell_type": "code",
   "execution_count": 62,
   "id": "0270b842",
   "metadata": {},
   "outputs": [
    {
     "data": {
      "text/plain": [
       "0       119.7719\n",
       "1       119.7719\n",
       "2       119.7719\n",
       "3       119.7719\n",
       "4       119.7719\n",
       "          ...   \n",
       "1383    119.7719\n",
       "1384    119.7719\n",
       "1385    119.7719\n",
       "1386    119.7719\n",
       "1387    119.7719\n",
       "Length: 1388, dtype: float64"
      ]
     },
     "execution_count": 62,
     "metadata": {},
     "output_type": "execute_result"
    }
   ],
   "source": [
    "# Take a look at the residuals\n",
    "results.resid.head()"
   ]
  },
  {
   "cell_type": "code",
   "execution_count": 60,
   "id": "42569271",
   "metadata": {},
   "outputs": [
    {
     "data": {
      "text/plain": [
       "1.48929757415317e-11"
      ]
     },
     "execution_count": 60,
     "metadata": {},
     "output_type": "execute_result"
    }
   ],
   "source": [
    "# Sum up residuals\n",
    "results.resid.sum()"
   ]
  },
  {
   "cell_type": "markdown",
   "id": "cf64e0cd",
   "metadata": {},
   "source": [
    "I have verified that the sum of residuals is very close to 0."
   ]
  },
  {
   "cell_type": "markdown",
   "id": "e8a8e9ac",
   "metadata": {},
   "source": [
    "(d) (1 point) Using a scatter plot, show the observed values against the values predicted by a regression."
   ]
  },
  {
   "cell_type": "code",
   "execution_count": 65,
   "id": "aaf85283",
   "metadata": {
    "scrolled": true
   },
   "outputs": [
    {
     "data": {
      "text/plain": [
       "[]"
      ]
     },
     "execution_count": 65,
     "metadata": {},
     "output_type": "execute_result"
    },
    {
     "data": {
      "image/png": "[encoded data removed]",
      "text/plain": [
       "<Figure size 1152x648 with 1 Axes>"
      ]
     },
     "metadata": {
      "needs_background": "light"
     },
     "output_type": "display_data"
    }
   ],
   "source": [
    "plt.figure(figsize=(16,9))\n",
    "plt.scatter(bwght['cigs'], bwght['bwght'])\n",
    "plt.plot(bwght['cigs'], results.fittedvalues, color='orange')\n",
    "\n",
    "#add labels\n",
    "plt.title('baby weight vs. smoking or not')\n",
    "plt.xlabel('cigarettes smoke per day')\n",
    "plt.ylabel('baby weight')\n",
    "\n",
    "plt.plot()"
   ]
  }
 ],
 "metadata": {
  "kernelspec": {
   "display_name": "Python 3 (ipykernel)",
   "language": "python",
   "name": "python3"
  },
  "language_info": {
   "codemirror_mode": {
    "name": "ipython",
    "version": 3
   },
   "file_extension": ".py",
   "mimetype": "text/x-python",
   "name": "python",
   "nbconvert_exporter": "python",
   "pygments_lexer": "ipython3",
   "version": "3.9.12"
  }
 },
 "nbformat": 4,
 "nbformat_minor": 5
}
